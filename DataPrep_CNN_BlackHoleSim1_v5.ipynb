{
 "cells": [
  {
   "cell_type": "code",
   "execution_count": null,
   "metadata": {},
   "outputs": [],
   "source": []
  },
  {
   "cell_type": "markdown",
   "metadata": {},
   "source": [
    "### Add class label to images"
   ]
  },
  {
   "cell_type": "code",
   "execution_count": null,
   "metadata": {},
   "outputs": [],
   "source": [
    "import os"
   ]
  },
  {
   "cell_type": "code",
   "execution_count": null,
   "metadata": {},
   "outputs": [],
   "source": [
    "def rename_pics(ls_files, path_old, path_new):\n",
    "    '''\n",
    "    Prepends (adds) a class label indication before the name of each jpg file and writes the renamed\n",
    "    jpg files to a new folder location\n",
    "    \n",
    "    Parameters\n",
    "    ----------\n",
    "    ls_files: List. List of jpg files to rename\n",
    "    \n",
    "    path_old: String. Path to the folder containing jpg images with original names\n",
    "    \n",
    "    path_new: String. Path to a the folder where the re-names jpg image files will be saved\n",
    "    \n",
    "    Notes\n",
    "    -----\n",
    "    Usage Note: Must comment out and in code lines below based on what naming needs to happen.\n",
    "    Future plan is to make these processes automatic (less hand manip of fxns).\n",
    "    '''\n",
    "    for file in ls_files:\n",
    "        #os.rename(path_old + file, './temp_rename/' + '1_' + file)\n",
    "        \n",
    "        #os.rename(path_old + file,  path_new + '0_' + file)\n",
    "        os.rename(path_old + file,  path_new + '1_' + file)"
   ]
  },
  {
   "cell_type": "code",
   "execution_count": null,
   "metadata": {},
   "outputs": [],
   "source": [
    "data_0 = '../data_BHsim/data_BHsim_Radius5/'\n",
    "data_1 = '../data_BHsim/data_BHsim_Radius10/'\n",
    "\n",
    "ls_files_0 = os.listdir(data_0)\n",
    "ls_files_1 = os.listdir(data_1)\n",
    "\n",
    "print(len(ls_files_0))\n",
    "print(len(ls_files_1))"
   ]
  },
  {
   "cell_type": "code",
   "execution_count": null,
   "metadata": {},
   "outputs": [],
   "source": [
    "#rename_pics(ls_files_0, data_0, './temp_rename/')\n",
    "rename_pics(ls_files_1, data_1, './temp_rename/')"
   ]
  },
  {
   "cell_type": "code",
   "execution_count": null,
   "metadata": {},
   "outputs": [],
   "source": [
    "# (combined folders by hand, have code for this too for when need to do this a lot)"
   ]
  },
  {
   "cell_type": "code",
   "execution_count": null,
   "metadata": {},
   "outputs": [],
   "source": [
    "## (let's leave imgage resolution as is to start with)"
   ]
  },
  {
   "cell_type": "markdown",
   "metadata": {},
   "source": [
    "### jpg to npy"
   ]
  },
  {
   "cell_type": "code",
   "execution_count": 4,
   "metadata": {},
   "outputs": [],
   "source": [
    "import glob\n",
    "import numpy as np\n",
    "import os.path as path\n",
    "import imageio\n",
    "import time"
   ]
  },
  {
   "cell_type": "code",
   "execution_count": 8,
   "metadata": {},
   "outputs": [],
   "source": [
    "def img_to_npy(IMAGE_PATH, TRAIN_TEST_SPLIT_RATIO):\n",
    "    '''\n",
    "    Converts image files (jpg or png) to numpy binary numeric format and saves\n",
    "    \n",
    "    Parameters\n",
    "    ----------\n",
    "    \n",
    "    IMAGE_PATH: String. \n",
    "    \n",
    "    Notes\n",
    "    -----\n",
    "    Currently writes npy data to local folder\n",
    "    '''\n",
    "    file_paths = glob.glob(path.join(IMAGE_PATH, '*.jpg'))\n",
    "    #file_paths = glob.glob(path.join(IMAGE_PATH, '*.png'))\n",
    "    # Load the images\n",
    "    images = [imageio.imread(path) for path in file_paths]\n",
    "    images = np.asarray(images)\n",
    "    print(images.shape)\n",
    "    \n",
    "    # Scale\n",
    "    images = images / 255\n",
    "    \n",
    "    # Read the labels from the filenames\n",
    "    n_images = images.shape[0]\n",
    "    labels = np.zeros(n_images)\n",
    "    for i in range(n_images):\n",
    "        filename = path.basename(file_paths[i])[0]\n",
    "        labels[i] = int(filename[0])\n",
    "        \n",
    "    ## Split into test and training sets\n",
    "    \n",
    "    # Split at the given index\n",
    "    split_index = int(TRAIN_TEST_SPLIT_RATIO * n_images)\n",
    "    shuffled_indices = np.random.permutation(n_images)\n",
    "    train_indices = shuffled_indices[0:split_index]\n",
    "    test_indices = shuffled_indices[split_index:]\n",
    "    \n",
    "    # Split the images and the labels\n",
    "\n",
    "    X_train = images[train_indices, :, :, :]\n",
    "    #X_train = images[train_indices]\n",
    "    \n",
    "    y_train = labels[train_indices]\n",
    "    \n",
    "    X_test = images[test_indices, :, :, :]\n",
    "    #X_test = images[test_indices]\n",
    "\n",
    "    y_test = labels[test_indices]\n",
    "\n",
    "    print(X_train.shape, y_train.shape, X_test.shape, y_test.shape)\n",
    "    print(y_train[0:10])\n",
    "    \n",
    "    time_stamp = str(round(time.time()))\n",
    "    \n",
    "    #np.save('X_train.npy', X_train)\n",
    "    #np.save('X_train_' + time_stamp + '.npy', X_train)\n",
    "    #np.save('y_train.npy', y_train)\n",
    "    #np.save('y_train_' + time_stamp + '.npy', y_train)\n",
    "    #np.save('X_test.npy', X_test)\n",
    "    #np.save('X_test_' + time_stamp + '.npy', X_test)\n",
    "    #np.save('y_test.npy', y_test)\n",
    "    #np.save('y_test_' + time_stamp + '.npy', y_test)\n",
    "    \n",
    "    #np.save('X_train.npy', X_train)\n",
    "    np.save('X_train_BlackHoleMilkyWay1_' + time_stamp + '.npy', X_train)\n",
    "    #np.save('y_train.npy', y_train)\n",
    "    np.save('y_train_BlackHoleMilkyWay1_' + time_stamp + '.npy', y_train)\n",
    "    #np.save('X_test.npy', X_test)\n",
    "    np.save('X_test_BlackHoleMilkyWay1_' + time_stamp + '.npy', X_test)\n",
    "    #np.save('y_test.npy', y_test)\n",
    "    np.save('y_test_BlackHoleMilkyWay1_' + time_stamp + '.npy', y_test)"
   ]
  },
  {
   "cell_type": "code",
   "execution_count": 9,
   "metadata": {},
   "outputs": [
    {
     "data": {
      "text/plain": [
       "'../data_BHsim/data_BHsim_Radius5Radius10/'"
      ]
     },
     "execution_count": 9,
     "metadata": {},
     "output_type": "execute_result"
    }
   ],
   "source": [
    "folder_combined_name = '../data_BHsim/data_BHsim_Radius5Radius10/'\n",
    "\n",
    "path_img_combined = folder_combined_name # from previous step\n",
    "path_img_combined"
   ]
  },
  {
   "cell_type": "code",
   "execution_count": 10,
   "metadata": {},
   "outputs": [
    {
     "name": "stderr",
     "output_type": "stream",
     "text": [
      "C:\\Users\\m85302\\AppData\\Local\\Temp\\ipykernel_23500\\3152974950.py:17: DeprecationWarning: Starting with ImageIO v3 the behavior of this function will switch to that of iio.v3.imread. To keep the current behavior (and make this warning disappear) use `import imageio.v2 as imageio` or call `imageio.v2.imread` directly.\n",
      "  images = [imageio.imread(path) for path in file_paths]\n"
     ]
    },
    {
     "name": "stdout",
     "output_type": "stream",
     "text": [
      "(600, 180, 360, 3)\n",
      "(500, 180, 360, 3) (500,) (100, 180, 360, 3) (100,)\n",
      "[0. 0. 1. 0. 1. 0. 1. 0. 1. 1.]\n"
     ]
    }
   ],
   "source": [
    "img_to_npy(path_img_combined, 0.834) # 0.834 to get a 500/100 split #0.80 "
   ]
  },
  {
   "cell_type": "code",
   "execution_count": null,
   "metadata": {},
   "outputs": [],
   "source": []
  }
 ],
 "metadata": {
  "kernelspec": {
   "display_name": "Python 3",
   "language": "python",
   "name": "python3"
  },
  "language_info": {
   "codemirror_mode": {
    "name": "ipython",
    "version": 3
   },
   "file_extension": ".py",
   "mimetype": "text/x-python",
   "name": "python",
   "nbconvert_exporter": "python",
   "pygments_lexer": "ipython3",
   "version": "3.8.5"
  }
 },
 "nbformat": 4,
 "nbformat_minor": 5
}
